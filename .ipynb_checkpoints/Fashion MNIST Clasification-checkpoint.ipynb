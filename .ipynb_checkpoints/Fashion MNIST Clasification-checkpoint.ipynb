{
 "cells": [
  {
   "cell_type": "code",
   "execution_count": null,
   "id": "c539db4d",
   "metadata": {},
   "outputs": [],
   "source": [
    "import numpy as np\n",
    "import tensorflow as tf\n",
    "import matplotlib.pyplot as plt\n",
    "import math"
   ]
  },
  {
   "cell_type": "code",
   "execution_count": null,
   "id": "7cb68068",
   "metadata": {},
   "outputs": [],
   "source": [
    "# The dataset we are using\n",
    "\n",
    "import tensorflow_datasets as tfds\n",
    "tfds.disable_progress_bar()\n",
    "\n",
    "dataset, metadata = tfds.load('fashion_mnist', as_supervised=True, with_info=True)\n",
    "train_dataset, test_dataset = dataset['train'], dataset['test']\n",
    "\n",
    "class_names = metadata.features['label'].names"
   ]
  },
  {
   "cell_type": "code",
   "execution_count": null,
   "id": "df1471af",
   "metadata": {},
   "outputs": [],
   "source": [
    "# Bring pixel from 0, 255 to 0,1 range\n",
    "\n",
    "def noramlize(image, labels):\n",
    "    images = tf.cast(image, tf.float32)\n",
    "    images /= 255\n",
    "    return images, labels\n",
    "\n",
    "train_dataset.map(normalize)\n",
    "test_dataset.map(normalize)\n",
    "\n",
    "# Avoids fetching again and again from disk\n",
    "\n",
    "train_dataset =  train_dataset.cache()\n",
    "test_dataset  =  test_dataset.cache()"
   ]
  },
  {
   "cell_type": "code",
   "execution_count": null,
   "id": "77937779",
   "metadata": {},
   "outputs": [],
   "source": [
    "for image, label in test_dataset.take(1):\n",
    "    break\n",
    "\n",
    "plt.figure() # This created a figure rather than a plot -> difference is that plot has axes\n",
    "plt.imshow(image, map=plt.cm.binary)\n",
    "plt.colorbar()\n",
    "plt.grid(False)\n",
    "plt.show()"
   ]
  },
  {
   "cell_type": "code",
   "execution_count": null,
   "id": "6ac30696",
   "metadata": {},
   "outputs": [],
   "source": [
    "# image array format 28x28 but with color so to bring it to grayscale\n",
    "\n",
    "# Plotting 25 images for test\n",
    "\n",
    "plt.figure(figsize=(10,10))\n",
    "for i, (image, label) in enumerate(train_dataset.take(25)):\n",
    "    image = image.numpy().reshape((28,28))\n",
    "    plt.subplot(5,5,i+1)\n",
    "    plt.xticks([])\n",
    "    plt.yticks([])\n",
    "    plt.grid(False)\n",
    "    plt.imshow(image, cmap=plt.cm.binary)\n",
    "    plt.xlabel(class_names[label])\n",
    "plt.show()"
   ]
  },
  {
   "cell_type": "code",
   "execution_count": null,
   "id": "d8e4019d",
   "metadata": {},
   "outputs": [],
   "source": [
    "# Flattening explained in readme.md\n",
    "\n",
    "# Relu cause this is a non liner function\n",
    "\n",
    "# Softmax cause we need probability distribution\n",
    "\n",
    "model = tf.keras.Sequential([\n",
    "    tf.keras.layers.Flatten(input_shape=(28, 28, 1)),\n",
    "    tf.keras.layers.Dense(128, activation=tf.nn.relu),\n",
    "    tf.keras.layers.Dense(10, activation=tf.nn.softmax)\n",
    "])\n",
    "\n",
    "model.compile(optimizer='adam',\n",
    "              loss=tf.keras.losses.SparseCategoricalCrossentropy(),\n",
    "              metrics=['accuracy'])"
   ]
  },
  {
   "cell_type": "code",
   "execution_count": null,
   "id": "cb8668c1",
   "metadata": {},
   "outputs": [],
   "source": [
    "# datasaet.repeat() will go on forever if we do not put epochs param\n",
    "\n",
    "# Epochs 5 means full 5 time processing of dataset => 60,000*5 tests\n",
    "\n",
    "# dataset is shuffled to avoid learnng from the order of the sample\n",
    "\n",
    "# Doing processing in batches of 32\n",
    "\n",
    "BATCH_SIZE = 32\n",
    "train_dataset = train_dataset.cache().repeat().shuffle(num_train_examples).batch(BATCH_SIZE)\n",
    "test_dataset = test_dataset.cache().batch(BATCH_SIZE)\n",
    "\n",
    "model.fit(train_dataset, epochs=5, steps_per_epoch=math.ceil(num_train_examples/BATCH_SIZE))"
   ]
  },
  {
   "cell_type": "code",
   "execution_count": null,
   "id": "ab2996ec",
   "metadata": {},
   "outputs": [],
   "source": [
    "test_loss, test_accuracy = model.evaluate(test_dataset, steps=math.ceil(num_test_examples/32))\n",
    "print('Accuracy on test dataset:', test_accuracy)"
   ]
  },
  {
   "cell_type": "code",
   "execution_count": null,
   "id": "7dcae8b2",
   "metadata": {},
   "outputs": [],
   "source": [
    "for test_images, test_labels in test_dataset.take(1):\n",
    "  test_images = test_images.numpy()\n",
    "  test_labels = test_labels.numpy()\n",
    "  predictions = model.predict(test_images)\n",
    "\n",
    "print(predictions.shape)\n",
    "print(predictions[0])\n",
    "print(np.argmax(predictions[0]))\n",
    "print(test_labels[0])"
   ]
  }
 ],
 "metadata": {
  "kernelspec": {
   "display_name": "Python 3 (ipykernel)",
   "language": "python",
   "name": "python3"
  },
  "language_info": {
   "codemirror_mode": {
    "name": "ipython",
    "version": 3
   },
   "file_extension": ".py",
   "mimetype": "text/x-python",
   "name": "python",
   "nbconvert_exporter": "python",
   "pygments_lexer": "ipython3",
   "version": "3.9.13"
  }
 },
 "nbformat": 4,
 "nbformat_minor": 5
}

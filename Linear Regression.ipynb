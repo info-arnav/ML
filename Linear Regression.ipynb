{
 "cells": [
  {
   "cell_type": "code",
   "execution_count": 2,
   "id": "f860e21e",
   "metadata": {},
   "outputs": [],
   "source": [
    "import numpy as np\n",
    "import tensorflow as tf\n",
    "import matplotlib.pyplot as plt"
   ]
  },
  {
   "cell_type": "code",
   "execution_count": 3,
   "id": "02188da3",
   "metadata": {},
   "outputs": [],
   "source": [
    "input_array = np.array([1,2,3,4,5,6,7,8,9], dtype=\"float\")\n",
    "output_array = np.array([11,21,31,41,51,61,71,81,91], dtype=\"float\")"
   ]
  },
  {
   "cell_type": "code",
   "execution_count": null,
   "id": "f8ecacf2",
   "metadata": {},
   "outputs": [],
   "source": [
    "# This shows us the line of best fit\n",
    "\n",
    "x, y = np.polyfit(input_array, output_array, 1)\n",
    "plt.scatter(input_array, output_array)\n",
    "plt.plot(input_array, x*input_array+y) "
   ]
  },
  {
   "cell_type": "code",
   "execution_count": 4,
   "id": "18ee662c",
   "metadata": {},
   "outputs": [],
   "source": [
    "l0 = tf.keras.layers.Dense(units=4, input_shape=[1]) #4 weights and 4 biasis\n",
    "l1 = tf.keras.layers.Dense(4) #16 weights and 4 biasis\n",
    "l2 = tf.keras.layers.Dense(4) #16 weights and 4 biasis\n",
    "l3 = tf.keras.layers.Dense(2) #8 weights and 2 biasis\n",
    "l4 = tf.keras.layers.Dense(1) #2 wight and 1 bias"
   ]
  },
  {
   "cell_type": "code",
   "execution_count": 9,
   "id": "a7c941a3",
   "metadata": {},
   "outputs": [],
   "source": [
    "model = tf.keras.Sequential([l0,l1,l2,l3,l4])\n",
    "model.compile(loss=\"mean_squared_error\", optimizer=tf.keras.optimizers.Adam(0.1))\n",
    "history = model.fit(input_array, output_array, epochs=500, verbose=False)"
   ]
  },
  {
   "cell_type": "code",
   "execution_count": null,
   "id": "40341b71",
   "metadata": {},
   "outputs": [],
   "source": [
    "plt.plot(history.history[\"loss\"])"
   ]
  },
  {
   "cell_type": "code",
   "execution_count": 7,
   "id": "84013052",
   "metadata": {},
   "outputs": [
    {
     "name": "stdout",
     "output_type": "stream",
     "text": [
      "1/1 [==============================] - 0s 109ms/step\n",
      "[[1001.00006]]\n",
      "[array([[-0.71529955,  0.36442333,  0.8375081 ,  1.0014875 ]],\n",
      "      dtype=float32), array([ 0.03370226, -0.05698208, -0.48081994, -0.24123348], dtype=float32)]\n"
     ]
    }
   ],
   "source": [
    "print(model.predict([100.0]))\n",
    "print(l0.get_weights())"
   ]
  }
 ],
 "metadata": {
  "kernelspec": {
   "display_name": "Python 3 (ipykernel)",
   "language": "python",
   "name": "python3"
  },
  "language_info": {
   "codemirror_mode": {
    "name": "ipython",
    "version": 3
   },
   "file_extension": ".py",
   "mimetype": "text/x-python",
   "name": "python",
   "nbconvert_exporter": "python",
   "pygments_lexer": "ipython3",
   "version": "3.9.13"
  }
 },
 "nbformat": 4,
 "nbformat_minor": 5
}
